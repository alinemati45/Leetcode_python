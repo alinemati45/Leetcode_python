{
 "cells": [
  {
   "cell_type": "markdown",
   "id": "8587e033",
   "metadata": {
    "toc": true
   },
   "source": [
    "<h1>Table of Contents<span class=\"tocSkip\"></span></h1>\n",
    "<div class=\"toc\"><ul class=\"toc-item\"><li><span><a href=\"#56.-Merge-Intervals\" data-toc-modified-id=\"56.-Merge-Intervals-1\"><span class=\"toc-item-num\">1&nbsp;&nbsp;</span>56. Merge Intervals</a></span></li><li><span><a href=\"#Example-1:\" data-toc-modified-id=\"Example-1:-2\"><span class=\"toc-item-num\">2&nbsp;&nbsp;</span>Example 1:</a></span></li><li><span><a href=\"#Example-2:\" data-toc-modified-id=\"Example-2:-3\"><span class=\"toc-item-num\">3&nbsp;&nbsp;</span>Example 2:</a></span></li></ul></div>"
   ]
  },
  {
   "cell_type": "markdown",
   "id": "6fa73dbb",
   "metadata": {},
   "source": [
    "# 56. Merge Intervals\n",
    "\n",
    "Given an array of intervals where intervals[i] = [starti, endi], merge all overlapping intervals, and return an array of the non-overlapping intervals that cover all the intervals in the input.\n",
    "\n",
    "# Example 1:\n",
    "\n",
    "Input: intervals = [[1,3],[2,6],[8,10],[15,18]]\n",
    "\n",
    "Output: [[1,6],[8,10],[15,18]]\n",
    "\n",
    "Explanation: Since intervals [1,3] and [2,6] overlaps, merge them into [1,6].\n",
    "\n",
    "# Example 2:\n",
    "\n",
    "Input: intervals = [[1,4],[4,5]]\n",
    "\n",
    "Output: [[1,5]]\n",
    "\n",
    "Explanation: Intervals [1,4] and [4,5] are considered overlapping."
   ]
  },
  {
   "cell_type": "code",
   "execution_count": 29,
   "id": "b06a025b",
   "metadata": {
    "ExecuteTime": {
     "end_time": "2022-04-20T16:24:46.645339Z",
     "start_time": "2022-04-20T16:24:46.630337Z"
    }
   },
   "outputs": [],
   "source": [
    "def merge(intervals):\n",
    "    if intervals ==[]: # if empty\n",
    "        return []\n",
    "    result = []\n",
    "    intervals.sort() # sort them to make sure there are sorted\n",
    "    for interval in intervals:\n",
    "#         print(interval)\n",
    "        # inerval[] = empty, result[-1][1] = last interval and index 1 (end interval);\n",
    "        # interval[0]= starting point\n",
    "#         print(interval[0])\n",
    "        if result == [] or result[-1][1] < interval[0]: # if empty or overlapp less than currect interval\n",
    "            result.append(interval)\n",
    "#             print(\"line 11\" ,result)\n",
    "        else:\n",
    "#             print(interval[1])\n",
    "            result[-1][1]= max(result[-1][1] ,interval[1] )\n",
    "#             print(\"line 14\" ,result)\n",
    "            \n",
    "    return result\n",
    "            "
   ]
  },
  {
   "cell_type": "code",
   "execution_count": 30,
   "id": "4fb9e842",
   "metadata": {
    "ExecuteTime": {
     "end_time": "2022-04-20T16:24:48.718886Z",
     "start_time": "2022-04-20T16:24:48.702885Z"
    }
   },
   "outputs": [
    {
     "data": {
      "text/plain": [
       "[[1, 6], [8, 10], [15, 18]]"
      ]
     },
     "execution_count": 30,
     "metadata": {},
     "output_type": "execute_result"
    }
   ],
   "source": [
    "intervals = [[1,3],[2,6],[8,10],[15,18]]\n",
    "merge(intervals)"
   ]
  },
  {
   "cell_type": "markdown",
   "id": "40a1ce37",
   "metadata": {},
   "source": [
    "- interation 1\n",
    "[1, 3]\n",
    "\n",
    "if result == [] or  result[-1][1]=3 < interval[0] = 1\n",
    "\n",
    "output [[1, 3]]\n",
    "\n",
    "\n",
    "- interation 2\n",
    "\n",
    "[2, 6]\n",
    "\n",
    "if  result[-1][1]=2 < interval[0] =2, go for else, result[-1][1]=2  = max(result[-1][1]=6 ,interval[1]= 6)=>\n",
    "\n",
    "output: [[1, 6]]\n",
    "    \n",
    "- interation 3 \n",
    "\n",
    "[8, 10]\n",
    "\n",
    "result is not empty, but result[-1][1] < interval[0]: 6 < 8 \n",
    "\n",
    "output: [[1, 6] , [8, 10]]\n",
    "\n",
    "- interation 3 \n",
    "\n",
    "[15, 18]\n",
    "\n",
    "result is not empty, but result[-1][1] < interval[0]: 10 < 15 \n",
    "\n",
    "output: [[1, 6] , [8, 10] , [15, 18]]\n",
    "\n"
   ]
  },
  {
   "cell_type": "code",
   "execution_count": 31,
   "id": "7c2a2122",
   "metadata": {
    "ExecuteTime": {
     "end_time": "2022-04-20T16:24:50.836040Z",
     "start_time": "2022-04-20T16:24:50.831013Z"
    }
   },
   "outputs": [
    {
     "data": {
      "text/plain": [
       "[[1, 5]]"
      ]
     },
     "execution_count": 31,
     "metadata": {},
     "output_type": "execute_result"
    }
   ],
   "source": [
    "intervals =  [[1,4],[4,5]]\n",
    "merge(intervals)"
   ]
  },
  {
   "cell_type": "code",
   "execution_count": null,
   "id": "c8962540",
   "metadata": {},
   "outputs": [],
   "source": []
  }
 ],
 "metadata": {
  "kernelspec": {
   "display_name": "Python 3 (ipykernel)",
   "language": "python",
   "name": "python3"
  },
  "language_info": {
   "codemirror_mode": {
    "name": "ipython",
    "version": 3
   },
   "file_extension": ".py",
   "mimetype": "text/x-python",
   "name": "python",
   "nbconvert_exporter": "python",
   "pygments_lexer": "ipython3",
   "version": "3.7.11"
  },
  "toc": {
   "base_numbering": 1,
   "nav_menu": {},
   "number_sections": true,
   "sideBar": true,
   "skip_h1_title": false,
   "title_cell": "Table of Contents",
   "title_sidebar": "Contents",
   "toc_cell": true,
   "toc_position": {},
   "toc_section_display": true,
   "toc_window_display": false
  }
 },
 "nbformat": 4,
 "nbformat_minor": 5
}
