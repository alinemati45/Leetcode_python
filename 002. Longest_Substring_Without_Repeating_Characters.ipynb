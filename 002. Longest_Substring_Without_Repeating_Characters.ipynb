{
 "cells": [
  {
   "cell_type": "markdown",
   "id": "e8fbb956",
   "metadata": {
    "toc": true
   },
   "source": [
    "<h1>Table of Contents<span class=\"tocSkip\"></span></h1>\n",
    "<div class=\"toc\"><ul class=\"toc-item\"><li><span><a href=\"#Example-1:\" data-toc-modified-id=\"Example-1:-1\"><span class=\"toc-item-num\">1&nbsp;&nbsp;</span>Example 1:</a></span></li><li><span><a href=\"#Example-2:\" data-toc-modified-id=\"Example-2:-2\"><span class=\"toc-item-num\">2&nbsp;&nbsp;</span>Example 2:</a></span></li><li><span><a href=\"#Example-3:\" data-toc-modified-id=\"Example-3:-3\"><span class=\"toc-item-num\">3&nbsp;&nbsp;</span>Example 3:</a></span></li></ul></div>"
   ]
  },
  {
   "cell_type": "markdown",
   "id": "af749cef",
   "metadata": {},
   "source": [
    "**Given a string s, find the length of the longest substring without repeating characters.**\n",
    "\n",
    "# Example 1:\n",
    "\n",
    "Input: s = \"abcabcbb\"\n",
    "\n",
    "Output: 3\n",
    "\n",
    "Explanation: The answer is \"abc\", with the length of 3.\n",
    "\n",
    "# Example 2:\n",
    "\n",
    "Input: s = \"bbbbb\"\n",
    "\n",
    "Output: 1\n",
    "\n",
    "Explanation: The answer is \"b\", with the length of 1.\n",
    "\n",
    "# Example 3:\n",
    "\n",
    "Input: s = \"pwwkew\"\n",
    "\n",
    "Output: 3\n",
    "\n",
    "Explanation: The answer is \"wke\", with the length of 3.\n",
    "\n",
    "Notice that the answer must be a substring, \"pwke\" is a subsequence and not a substring."
   ]
  },
  {
   "cell_type": "code",
   "execution_count": 25,
   "id": "07e74e6f",
   "metadata": {
    "ExecuteTime": {
     "end_time": "2022-04-20T04:30:59.986784Z",
     "start_time": "2022-04-20T04:30:59.980751Z"
    }
   },
   "outputs": [
    {
     "name": "stdout",
     "output_type": "stream",
     "text": [
      "3\n",
      "3\n",
      "1\n"
     ]
    }
   ],
   "source": [
    "class Solution(object):\n",
    "       def lengthOfLongestSubstring(self, s): # get s include char\n",
    "        charMap = {}# crease hasmap.\n",
    "        for i in range(256):\n",
    "            charMap[i] = -1 # add -1 for 0 - 255 records\n",
    "        ls = len(s) # length of s = len(s)\n",
    "#         print(ls) # length of S.\n",
    "        i = max_len = 0 \n",
    "        for j in range(ls):\n",
    "            # Note that when charMap[ord(s[j])] >= i, it means that there are\n",
    "            # duplicate character in current i,j. So we need to update i.\n",
    "            if charMap[ord(s[j])] >= i:        #if conditon \n",
    "                i = charMap[ord(s[j])] + 1     # update i +1 \n",
    "            charMap[ord(s[j])] = j             # update j \n",
    "            max_len = max(max_len, j - i + 1)  # update Max_len \n",
    "            \n",
    "        return max_len # return result.\n",
    "    \n",
    "s = \"pwwkew\"\n",
    "print(Solution().lengthOfLongestSubstring(s))\n",
    "\n",
    "\n",
    "s = \"abcabcbb\"\n",
    "print(Solution().lengthOfLongestSubstring(s))\n",
    "\n",
    "\n",
    "s = \"bbbbb\"\n",
    "print(Solution().lengthOfLongestSubstring(s))\n"
   ]
  }
 ],
 "metadata": {
  "kernelspec": {
   "display_name": "Python 3 (ipykernel)",
   "language": "python",
   "name": "python3"
  },
  "language_info": {
   "codemirror_mode": {
    "name": "ipython",
    "version": 3
   },
   "file_extension": ".py",
   "mimetype": "text/x-python",
   "name": "python",
   "nbconvert_exporter": "python",
   "pygments_lexer": "ipython3",
   "version": "3.7.11"
  },
  "toc": {
   "base_numbering": 1,
   "nav_menu": {},
   "number_sections": true,
   "sideBar": true,
   "skip_h1_title": false,
   "title_cell": "Table of Contents",
   "title_sidebar": "Contents",
   "toc_cell": true,
   "toc_position": {},
   "toc_section_display": true,
   "toc_window_display": false
  }
 },
 "nbformat": 4,
 "nbformat_minor": 5
}
