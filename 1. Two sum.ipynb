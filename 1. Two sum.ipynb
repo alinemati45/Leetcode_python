{
 "cells": [
  {
   "cell_type": "markdown",
   "id": "daf16ace",
   "metadata": {
    "toc": true
   },
   "source": [
    "<h1>Table of Contents<span class=\"tocSkip\"></span></h1>\n",
    "<div class=\"toc\"><ul class=\"toc-item\"></ul></div>"
   ]
  },
  {
   "cell_type": "markdown",
   "id": "fb55018f",
   "metadata": {},
   "source": [
    "\n",
    "\n",
    "Given an array of integers nums and an integer target, return indices of the two numbers such that they add up to target.\n",
    "\n",
    "You may assume that each input would have exactly one solution, and you may not use the same element twice.\n",
    "\n",
    "You can return the answer in any order.\n",
    "\n",
    "\n",
    "Example 1:\n",
    "\n",
    "Input: nums = [2,7,11,15], target = 9\n",
    "\n",
    "Output: [0,1]\n",
    "\n",
    "Explanation: Because nums[0] + nums[1] == 9, we return [0, 1].\n",
    "\n",
    "Example 2:\n",
    "\n",
    "Input: nums = [3,2,4], target = 6\n",
    "\n",
    "Output: [1,2]\n",
    "\n",
    "Example 3:\n",
    "\n",
    "Input: nums = [3,3], target = 6\n",
    "Output: [0,1]\n",
    "    \n",
    "Constraints:\n",
    "\n",
    "2 <= nums.length <= 104\n",
    "-109 <= nums[i] <= 109\n",
    "-109 <= target <= 109\n",
    "Only one valid answer exists.\n",
    " \n",
    "\n",
    "Follow-up: Can you come up with an algorithm that is less than O(n2) time complexity?"
   ]
  },
  {
   "cell_type": "code",
   "execution_count": 18,
   "id": "867a6f4f",
   "metadata": {
    "ExecuteTime": {
     "end_time": "2022-04-20T03:31:47.242607Z",
     "start_time": "2022-04-20T03:31:47.224606Z"
    }
   },
   "outputs": [
    {
     "name": "stdout",
     "output_type": "stream",
     "text": [
      "[1, 2]\n"
     ]
    }
   ],
   "source": [
    "class Solution(object):\n",
    "    def twoSum(self, nums, target):\n",
    "        # two point\n",
    "        # num_index = [value , index] for index, value in enumerate(nums)\n",
    "        # is going to revers value and index , reuslt is list\n",
    "        nums_index = [(value, index) for index, value in enumerate(nums)] #[(3, 0), (2, 1), (4, 2)]\n",
    "        nums_index.sort() # [(2, 1), (3, 0), (4, 2)]\n",
    "        begin, end = 0, len(nums) - 1 # begin =0 , end = len(nums) - 1 =2\n",
    "        while begin < end:\n",
    "             # [(2, 1), (3, 0), (4, 2)]\n",
    "            curr = nums_index[begin][0] + nums_index[end][0] # 2 + 4 = 6        \n",
    "            if curr == target: # if 6 = 6\n",
    "                return [nums_index[begin][1], nums_index[end][1]]\n",
    "            elif curr < target:\n",
    "                begin += 1\n",
    "            else:\n",
    "                end -= 1\n",
    "\n",
    "\n",
    "if __name__ == '__main__':\n",
    "    # begin\n",
    "    s = Solution()\n",
    "    num = [3, 2, 4]\n",
    "    print(s.twoSum(num, 6))\n"
   ]
  },
  {
   "cell_type": "code",
   "execution_count": null,
   "id": "9f40efec",
   "metadata": {},
   "outputs": [],
   "source": []
  }
 ],
 "metadata": {
  "kernelspec": {
   "display_name": "Python 3 (ipykernel)",
   "language": "python",
   "name": "python3"
  },
  "language_info": {
   "codemirror_mode": {
    "name": "ipython",
    "version": 3
   },
   "file_extension": ".py",
   "mimetype": "text/x-python",
   "name": "python",
   "nbconvert_exporter": "python",
   "pygments_lexer": "ipython3",
   "version": "3.7.11"
  },
  "toc": {
   "base_numbering": 1,
   "nav_menu": {},
   "number_sections": true,
   "sideBar": true,
   "skip_h1_title": false,
   "title_cell": "Table of Contents",
   "title_sidebar": "Contents",
   "toc_cell": true,
   "toc_position": {},
   "toc_section_display": true,
   "toc_window_display": false
  }
 },
 "nbformat": 4,
 "nbformat_minor": 5
}
